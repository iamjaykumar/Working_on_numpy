{
  "nbformat": 4,
  "nbformat_minor": 0,
  "metadata": {
    "colab": {
      "provenance": [],
      "authorship_tag": "ABX9TyPDmexztSuDFzofGEZrr+bB",
      "include_colab_link": true
    },
    "kernelspec": {
      "name": "python3",
      "display_name": "Python 3"
    },
    "language_info": {
      "name": "python"
    }
  },
  "cells": [
    {
      "cell_type": "markdown",
      "metadata": {
        "id": "view-in-github",
        "colab_type": "text"
      },
      "source": [
        "<a href=\"https://colab.research.google.com/github/iamjaykumar/Working_on_numpy/blob/main/numpy_advanced.ipynb\" target=\"_parent\"><img src=\"https://colab.research.google.com/assets/colab-badge.svg\" alt=\"Open In Colab\"/></a>"
      ]
    },
    {
      "cell_type": "code",
      "execution_count": 1,
      "metadata": {
        "id": "YyDMY2kvZJ0-"
      },
      "outputs": [],
      "source": [
        "import numpy as np"
      ]
    },
    {
      "cell_type": "code",
      "source": [
        "arr = np.random.randint(1,10,(3,4))"
      ],
      "metadata": {
        "id": "734Pj_WmZezQ"
      },
      "execution_count": 2,
      "outputs": []
    },
    {
      "cell_type": "code",
      "source": [
        "print(arr)\n",
        "print(arr.reshape(6,2))"
      ],
      "metadata": {
        "colab": {
          "base_uri": "https://localhost:8080/"
        },
        "id": "GV2WIafLbORB",
        "outputId": "28744050-910b-4678-85fc-5a51de67e5b2"
      },
      "execution_count": 3,
      "outputs": [
        {
          "output_type": "stream",
          "name": "stdout",
          "text": [
            "[[4 9 9 8]\n",
            " [4 1 9 9]\n",
            " [6 9 7 2]]\n",
            "[[4 9]\n",
            " [9 8]\n",
            " [4 1]\n",
            " [9 9]\n",
            " [6 9]\n",
            " [7 2]]\n"
          ]
        }
      ]
    },
    {
      "cell_type": "code",
      "source": [
        "arr.T # .T return the transpose of the array"
      ],
      "metadata": {
        "colab": {
          "base_uri": "https://localhost:8080/"
        },
        "id": "AwicGvgDbaI-",
        "outputId": "30f774f4-c50b-456d-8a51-21d400f19338"
      },
      "execution_count": 4,
      "outputs": [
        {
          "output_type": "execute_result",
          "data": {
            "text/plain": [
              "array([[4, 4, 6],\n",
              "       [9, 1, 9],\n",
              "       [9, 9, 7],\n",
              "       [8, 9, 2]])"
            ]
          },
          "metadata": {},
          "execution_count": 4
        }
      ]
    },
    {
      "cell_type": "code",
      "source": [
        "arr.flatten() # It will convert into 1D array"
      ],
      "metadata": {
        "colab": {
          "base_uri": "https://localhost:8080/"
        },
        "id": "EMe2ikWG2uGy",
        "outputId": "e531a783-77a1-4f5a-d7d5-05b643744e16"
      },
      "execution_count": 5,
      "outputs": [
        {
          "output_type": "execute_result",
          "data": {
            "text/plain": [
              "array([4, 9, 9, 8, 4, 1, 9, 9, 6, 9, 7, 2])"
            ]
          },
          "metadata": {},
          "execution_count": 5
        }
      ]
    },
    {
      "cell_type": "code",
      "source": [
        "arr1 = np.array([1,2,3,4,5])\n",
        "arr2 = np.array([6,7,8,9,10])\n",
        "print(arr1.ndim)"
      ],
      "metadata": {
        "colab": {
          "base_uri": "https://localhost:8080/"
        },
        "id": "pGMV94WM25Aw",
        "outputId": "6c0313d8-d5ae-4586-a1e8-48ddb1183995"
      },
      "execution_count": 7,
      "outputs": [
        {
          "output_type": "stream",
          "name": "stdout",
          "text": [
            "1\n"
          ]
        }
      ]
    },
    {
      "cell_type": "markdown",
      "source": [
        "axis = 0 : row, axis = 1 : col\n",
        "\n",
        "It converts into 2D array across col because axis = 1"
      ],
      "metadata": {
        "id": "rO1o-Zlg3QbK"
      }
    },
    {
      "cell_type": "code",
      "source": [
        "np.expand_dims(arr1, axis=1)"
      ],
      "metadata": {
        "colab": {
          "base_uri": "https://localhost:8080/"
        },
        "id": "f8-mZqnu3KuW",
        "outputId": "c94c7d6d-b4f2-414b-9278-ed5bf327250f"
      },
      "execution_count": 8,
      "outputs": [
        {
          "output_type": "execute_result",
          "data": {
            "text/plain": [
              "array([[1],\n",
              "       [2],\n",
              "       [3],\n",
              "       [4],\n",
              "       [5]])"
            ]
          },
          "metadata": {},
          "execution_count": 8
        }
      ]
    },
    {
      "cell_type": "code",
      "source": [
        "arr"
      ],
      "metadata": {
        "colab": {
          "base_uri": "https://localhost:8080/"
        },
        "id": "H565tQz-3k_c",
        "outputId": "549c04b6-8df0-484e-b681-f968ca8d4dd7"
      },
      "execution_count": 9,
      "outputs": [
        {
          "output_type": "execute_result",
          "data": {
            "text/plain": [
              "array([[4, 9, 9, 8],\n",
              "       [4, 1, 9, 9],\n",
              "       [6, 9, 7, 2]])"
            ]
          },
          "metadata": {},
          "execution_count": 9
        }
      ]
    },
    {
      "cell_type": "code",
      "source": [
        "np.squeeze(arr) #The squeeze() function in NumPy is used to remove axes (dimensions) from an array that have a length of 1"
      ],
      "metadata": {
        "colab": {
          "base_uri": "https://localhost:8080/"
        },
        "id": "xbZMGEP-3nM3",
        "outputId": "be085604-5c83-4b1e-a8d7-92139ee7f86f"
      },
      "execution_count": 10,
      "outputs": [
        {
          "output_type": "execute_result",
          "data": {
            "text/plain": [
              "array([[4, 9, 9, 8],\n",
              "       [4, 1, 9, 9],\n",
              "       [6, 9, 7, 2]])"
            ]
          },
          "metadata": {},
          "execution_count": 10
        }
      ]
    },
    {
      "cell_type": "code",
      "source": [
        "data = np.array([[1],[2],[3]])\n",
        "data"
      ],
      "metadata": {
        "colab": {
          "base_uri": "https://localhost:8080/"
        },
        "id": "eG0AxYO27WQw",
        "outputId": "bb2a0756-eea7-4bde-bf8a-e5e507f68425"
      },
      "execution_count": 12,
      "outputs": [
        {
          "output_type": "execute_result",
          "data": {
            "text/plain": [
              "array([[1],\n",
              "       [2],\n",
              "       [3]])"
            ]
          },
          "metadata": {},
          "execution_count": 12
        }
      ]
    },
    {
      "cell_type": "code",
      "source": [
        "np.squeeze(data) # It converts into single dim array"
      ],
      "metadata": {
        "colab": {
          "base_uri": "https://localhost:8080/"
        },
        "id": "PB66qDFe7jJA",
        "outputId": "ae175fad-9fbb-4381-a759-f2c63e6020c8"
      },
      "execution_count": 13,
      "outputs": [
        {
          "output_type": "execute_result",
          "data": {
            "text/plain": [
              "array([1, 2, 3])"
            ]
          },
          "metadata": {},
          "execution_count": 13
        }
      ]
    },
    {
      "cell_type": "code",
      "source": [
        "np.repeat(arr1, 3)  # repeating the elememts"
      ],
      "metadata": {
        "colab": {
          "base_uri": "https://localhost:8080/"
        },
        "id": "h-NBiWBY7rM9",
        "outputId": "a66af17b-0b8d-4c4a-d4e6-98ed13a56aa2"
      },
      "execution_count": 14,
      "outputs": [
        {
          "output_type": "execute_result",
          "data": {
            "text/plain": [
              "array([1, 1, 1, 2, 2, 2, 3, 3, 3, 4, 4, 4, 5, 5, 5])"
            ]
          },
          "metadata": {},
          "execution_count": 14
        }
      ]
    },
    {
      "cell_type": "markdown",
      "source": [
        "The np.roll() function takes an array and a shift value as arguments. It rolls the elements of the array along a given axis. In this case, the array being rolled is arr1, which is a one-dimensional array. The shift value is 2. This means that the elements of arr1 will be shifted to the right by 2 positions. The elements that are shifted off the end of the array will reappear at the beginning."
      ],
      "metadata": {
        "id": "BcFURXMP8uoN"
      }
    },
    {
      "cell_type": "code",
      "source": [
        "np.roll(arr1, 2) #shift=2"
      ],
      "metadata": {
        "colab": {
          "base_uri": "https://localhost:8080/"
        },
        "id": "PPoi8XIy7-cn",
        "outputId": "e413078d-07df-4ad0-e812-99d7ce752995"
      },
      "execution_count": 15,
      "outputs": [
        {
          "output_type": "execute_result",
          "data": {
            "text/plain": [
              "array([4, 5, 1, 2, 3])"
            ]
          },
          "metadata": {},
          "execution_count": 15
        }
      ]
    },
    {
      "cell_type": "markdown",
      "source": [
        "This code uses np.diag() on a 1D array (arr1) to create a 2D array with arr1's elements as the main diagonal and zeros elsewhere [1]."
      ],
      "metadata": {
        "id": "3jwbz8gc-Ky4"
      }
    },
    {
      "cell_type": "code",
      "source": [
        "np.diag(arr1)"
      ],
      "metadata": {
        "colab": {
          "base_uri": "https://localhost:8080/"
        },
        "id": "KsbFXvYb8yuv",
        "outputId": "98a367ba-c28e-4540-d74a-98b60144737e"
      },
      "execution_count": 16,
      "outputs": [
        {
          "output_type": "execute_result",
          "data": {
            "text/plain": [
              "array([[1, 0, 0, 0, 0],\n",
              "       [0, 2, 0, 0, 0],\n",
              "       [0, 0, 3, 0, 0],\n",
              "       [0, 0, 0, 4, 0],\n",
              "       [0, 0, 0, 0, 5]])"
            ]
          },
          "metadata": {},
          "execution_count": 16
        }
      ]
    },
    {
      "cell_type": "code",
      "source": [
        "#String Function\n",
        "arr = np.array(['sudh', 'kumar'])\n",
        "print(arr)\n",
        "np.char.upper(arr)\n",
        "print(np.char.capitalize(arr))\n",
        "print(np.char.title(arr))"
      ],
      "metadata": {
        "colab": {
          "base_uri": "https://localhost:8080/"
        },
        "id": "YTkTePBL-MZu",
        "outputId": "a7c370e1-33c8-4a84-d390-803ff1d08541"
      },
      "execution_count": 18,
      "outputs": [
        {
          "output_type": "stream",
          "name": "stdout",
          "text": [
            "['sudh' 'kumar']\n",
            "['Sudh' 'Kumar']\n",
            "['Sudh' 'Kumar']\n"
          ]
        }
      ]
    },
    {
      "cell_type": "code",
      "source": [
        "#Numpy - Mathematical Functions\n",
        "arr1 = np.random.randint(1,10,(3,4))\n",
        "arr2 = np.random.randint(1,10,(3,4))\n",
        "print(arr1)\n",
        "print(arr2)"
      ],
      "metadata": {
        "colab": {
          "base_uri": "https://localhost:8080/"
        },
        "id": "LiIuvqJQ-tZC",
        "outputId": "a001434d-78b2-4dce-b30e-a88077c2aad7"
      },
      "execution_count": 20,
      "outputs": [
        {
          "output_type": "stream",
          "name": "stdout",
          "text": [
            "[[3 1 2 5]\n",
            " [7 9 8 9]\n",
            " [2 1 7 2]]\n",
            "[[4 5 2 7]\n",
            " [1 2 3 6]\n",
            " [9 7 8 9]]\n"
          ]
        }
      ]
    },
    {
      "cell_type": "code",
      "source": [
        "print(np.sin(arr1))\n",
        "print(np.cos(arr1))\n",
        "print(np.tan(arr1))\n",
        "print(np.tanh(arr1))\n",
        "print(np.log(arr1))\n",
        "print(np.exp(arr1))\n",
        "print(np.sqrt(arr1))\n",
        "print(np.power(arr1,2))\n",
        "print(np.mean(arr1))\n",
        "print(np.median(arr1))\n",
        "print(np.std(arr1))\n",
        "print(np.var(arr1))\n",
        "print(np.min(arr1))\n",
        "print(np.max(arr1))\n"
      ],
      "metadata": {
        "colab": {
          "base_uri": "https://localhost:8080/"
        },
        "id": "6oBPd-Sn_IhH",
        "outputId": "7706c89b-a89c-474e-9240-35cf0fb99084"
      },
      "execution_count": 21,
      "outputs": [
        {
          "output_type": "stream",
          "name": "stdout",
          "text": [
            "[[ 0.14112001  0.84147098  0.90929743 -0.95892427]\n",
            " [ 0.6569866   0.41211849  0.98935825  0.41211849]\n",
            " [ 0.90929743  0.84147098  0.6569866   0.90929743]]\n",
            "[[-0.9899925   0.54030231 -0.41614684  0.28366219]\n",
            " [ 0.75390225 -0.91113026 -0.14550003 -0.91113026]\n",
            " [-0.41614684  0.54030231  0.75390225 -0.41614684]]\n",
            "[[-0.14254654  1.55740772 -2.18503986 -3.38051501]\n",
            " [ 0.87144798 -0.45231566 -6.79971146 -0.45231566]\n",
            " [-2.18503986  1.55740772  0.87144798 -2.18503986]]\n",
            "[[0.99505475 0.76159416 0.96402758 0.9999092 ]\n",
            " [0.99999834 0.99999997 0.99999977 0.99999997]\n",
            " [0.96402758 0.76159416 0.99999834 0.96402758]]\n",
            "[[1.09861229 0.         0.69314718 1.60943791]\n",
            " [1.94591015 2.19722458 2.07944154 2.19722458]\n",
            " [0.69314718 0.         1.94591015 0.69314718]]\n",
            "[[2.00855369e+01 2.71828183e+00 7.38905610e+00 1.48413159e+02]\n",
            " [1.09663316e+03 8.10308393e+03 2.98095799e+03 8.10308393e+03]\n",
            " [7.38905610e+00 2.71828183e+00 1.09663316e+03 7.38905610e+00]]\n",
            "[[1.73205081 1.         1.41421356 2.23606798]\n",
            " [2.64575131 3.         2.82842712 3.        ]\n",
            " [1.41421356 1.         2.64575131 1.41421356]]\n",
            "[[ 9  1  4 25]\n",
            " [49 81 64 81]\n",
            " [ 4  1 49  4]]\n",
            "4.666666666666667\n",
            "4.0\n",
            "3.0368111930480994\n",
            "9.222222222222221\n",
            "1\n",
            "9\n"
          ]
        }
      ]
    },
    {
      "cell_type": "markdown",
      "source": [
        "#Sort , Search & Counting Function"
      ],
      "metadata": {
        "id": "mcIXk4PK_nT6"
      }
    },
    {
      "cell_type": "code",
      "source": [
        "import numpy as np"
      ],
      "metadata": {
        "id": "8ytIF3OJ_miz"
      },
      "execution_count": 22,
      "outputs": []
    },
    {
      "cell_type": "code",
      "source": [
        "arr = np.array([1,2,5,7,4,38,2,4,3,545,3234,34,54])\n",
        "arr"
      ],
      "metadata": {
        "colab": {
          "base_uri": "https://localhost:8080/"
        },
        "id": "qF9VlCQh_1NN",
        "outputId": "74b17970-86e1-4993-8c12-87ceaf5ff66c"
      },
      "execution_count": 24,
      "outputs": [
        {
          "output_type": "execute_result",
          "data": {
            "text/plain": [
              "array([   1,    2,    5,    7,    4,   38,    2,    4,    3,  545, 3234,\n",
              "         34,   54])"
            ]
          },
          "metadata": {},
          "execution_count": 24
        }
      ]
    },
    {
      "cell_type": "code",
      "source": [
        "np.sort(arr)"
      ],
      "metadata": {
        "colab": {
          "base_uri": "https://localhost:8080/"
        },
        "id": "BHC6gDx8AGEQ",
        "outputId": "b9634a45-252e-47e6-832a-199f02072d59"
      },
      "execution_count": 25,
      "outputs": [
        {
          "output_type": "execute_result",
          "data": {
            "text/plain": [
              "array([   1,    2,    2,    3,    4,    4,    5,    7,   34,   38,   54,\n",
              "        545, 3234])"
            ]
          },
          "metadata": {},
          "execution_count": 25
        }
      ]
    },
    {
      "cell_type": "code",
      "source": [
        "np.searchsorted(arr, 34)"
      ],
      "metadata": {
        "colab": {
          "base_uri": "https://localhost:8080/"
        },
        "id": "7BeT42AFAKgj",
        "outputId": "48086ee8-0d32-42ef-e902-9672fa3ab595"
      },
      "execution_count": 26,
      "outputs": [
        {
          "output_type": "execute_result",
          "data": {
            "text/plain": [
              "np.int64(9)"
            ]
          },
          "metadata": {},
          "execution_count": 26
        }
      ]
    },
    {
      "cell_type": "code",
      "source": [
        "arr1 = np.array([333,4545,324,0,0,0,0,2342])\n",
        "arr1"
      ],
      "metadata": {
        "colab": {
          "base_uri": "https://localhost:8080/"
        },
        "id": "s53e-haRAPRa",
        "outputId": "79da0967-3634-4403-cf33-6f6d1a942e87"
      },
      "execution_count": 28,
      "outputs": [
        {
          "output_type": "execute_result",
          "data": {
            "text/plain": [
              "array([ 333, 4545,  324,    0,    0,    0,    0, 2342])"
            ]
          },
          "metadata": {},
          "execution_count": 28
        }
      ]
    },
    {
      "cell_type": "code",
      "source": [
        "np.count_nonzero(arr1)"
      ],
      "metadata": {
        "colab": {
          "base_uri": "https://localhost:8080/"
        },
        "id": "3nPsnaazAZ3x",
        "outputId": "3a70a0f4-d3a6-4154-de29-8f8d8ee82530"
      },
      "execution_count": 29,
      "outputs": [
        {
          "output_type": "execute_result",
          "data": {
            "text/plain": [
              "4"
            ]
          },
          "metadata": {},
          "execution_count": 29
        }
      ]
    },
    {
      "cell_type": "code",
      "source": [
        "np.where(arr>6) # It will give index"
      ],
      "metadata": {
        "colab": {
          "base_uri": "https://localhost:8080/"
        },
        "id": "Spl7wOl9AfJe",
        "outputId": "4c5ac362-ed20-49c8-894a-34da259f5c1e"
      },
      "execution_count": 30,
      "outputs": [
        {
          "output_type": "execute_result",
          "data": {
            "text/plain": [
              "(array([ 3,  5,  9, 10, 11, 12]),)"
            ]
          },
          "metadata": {},
          "execution_count": 30
        }
      ]
    },
    {
      "cell_type": "code",
      "source": [
        "np.extract(arr>6,arr) # It will give greater than 6 data"
      ],
      "metadata": {
        "colab": {
          "base_uri": "https://localhost:8080/"
        },
        "id": "HRwE4ob1An89",
        "outputId": "25f9c294-be94-445b-e41b-fd37eba6dcbc"
      },
      "execution_count": 31,
      "outputs": [
        {
          "output_type": "execute_result",
          "data": {
            "text/plain": [
              "array([   7,   38,  545, 3234,   34,   54])"
            ]
          },
          "metadata": {},
          "execution_count": 31
        }
      ]
    },
    {
      "cell_type": "code",
      "source": [
        "arr.byteswap() # byte swapping"
      ],
      "metadata": {
        "colab": {
          "base_uri": "https://localhost:8080/"
        },
        "id": "84ckty5KA08E",
        "outputId": "89aa4403-0731-4455-8edd-9397b1439f08"
      },
      "execution_count": 32,
      "outputs": [
        {
          "output_type": "execute_result",
          "data": {
            "text/plain": [
              "array([   72057594037927936,   144115188075855872,   360287970189639680,\n",
              "         504403158265495552,   288230376151711744,  2738188573441261568,\n",
              "         144115188075855872,   288230376151711744,   216172782113783808,\n",
              "        2378463553205043200, -6770036139844698112,  2449958197289549824,\n",
              "        3891110078048108544])"
            ]
          },
          "metadata": {},
          "execution_count": 32
        }
      ]
    },
    {
      "cell_type": "code",
      "source": [
        "a = np.copy(arr) #deep copy: It will not affect the original array\n",
        "a"
      ],
      "metadata": {
        "colab": {
          "base_uri": "https://localhost:8080/"
        },
        "id": "qovmGV7NA5Mu",
        "outputId": "1e4e22ad-f334-45c7-b961-e9a6f3eea92a"
      },
      "execution_count": 34,
      "outputs": [
        {
          "output_type": "execute_result",
          "data": {
            "text/plain": [
              "array([   1,    2,    5,    7,    4,   38,    2,    4,    3,  545, 3234,\n",
              "         34,   54])"
            ]
          },
          "metadata": {},
          "execution_count": 34
        }
      ]
    },
    {
      "cell_type": "code",
      "source": [
        "b = arr.view()  #Shallow copy  : But it will effect original array(Ye kisi dusre location pe copy nahi karta, ye sirf reference add copy karta h)"
      ],
      "metadata": {
        "id": "3sCKOvyRBCi5"
      },
      "execution_count": 35,
      "outputs": []
    },
    {
      "cell_type": "code",
      "source": [
        "b[0] = 0\n",
        "b"
      ],
      "metadata": {
        "colab": {
          "base_uri": "https://localhost:8080/"
        },
        "id": "tR9-Qjb7BUm5",
        "outputId": "b4b4dbe4-8cde-4bd4-f35e-2205ed3370ac"
      },
      "execution_count": 37,
      "outputs": [
        {
          "output_type": "execute_result",
          "data": {
            "text/plain": [
              "array([   0,    2,    5,    7,    4,   38,    2,    4,    3,  545, 3234,\n",
              "         34,   54])"
            ]
          },
          "metadata": {},
          "execution_count": 37
        }
      ]
    },
    {
      "cell_type": "code",
      "source": [
        "arr"
      ],
      "metadata": {
        "colab": {
          "base_uri": "https://localhost:8080/"
        },
        "id": "0yCreya6BdA5",
        "outputId": "72bc5248-9455-48ce-cf0b-a87dc5f5f6ac"
      },
      "execution_count": 38,
      "outputs": [
        {
          "output_type": "execute_result",
          "data": {
            "text/plain": [
              "array([   0,    2,    5,    7,    4,   38,    2,    4,    3,  545, 3234,\n",
              "         34,   54])"
            ]
          },
          "metadata": {},
          "execution_count": 38
        }
      ]
    },
    {
      "cell_type": "markdown",
      "source": [
        "#Numpy- matrix library"
      ],
      "metadata": {
        "id": "e8B1-xJgBmfm"
      }
    },
    {
      "cell_type": "code",
      "source": [
        "import numpy.matlib as nm"
      ],
      "metadata": {
        "id": "7cJ60UXsBfgo"
      },
      "execution_count": 39,
      "outputs": []
    },
    {
      "cell_type": "code",
      "source": [
        "nm.zeros(5)"
      ],
      "metadata": {
        "colab": {
          "base_uri": "https://localhost:8080/"
        },
        "id": "2yMRg8IABuEB",
        "outputId": "b9c8fd54-5e76-4ece-c2f6-e581b3cb8ed5"
      },
      "execution_count": 40,
      "outputs": [
        {
          "output_type": "execute_result",
          "data": {
            "text/plain": [
              "matrix([[0., 0., 0., 0., 0.]])"
            ]
          },
          "metadata": {},
          "execution_count": 40
        }
      ]
    },
    {
      "cell_type": "code",
      "source": [
        "nm.ones(5)"
      ],
      "metadata": {
        "colab": {
          "base_uri": "https://localhost:8080/"
        },
        "id": "YHm9kg6KBxv6",
        "outputId": "2cb34815-ab12-4ae0-9292-c8489ed4298b"
      },
      "execution_count": 41,
      "outputs": [
        {
          "output_type": "execute_result",
          "data": {
            "text/plain": [
              "matrix([[1., 1., 1., 1., 1.]])"
            ]
          },
          "metadata": {},
          "execution_count": 41
        }
      ]
    },
    {
      "cell_type": "code",
      "source": [
        "nm.eye(5) #identity matrix"
      ],
      "metadata": {
        "colab": {
          "base_uri": "https://localhost:8080/"
        },
        "id": "CqAjsAKTB18f",
        "outputId": "c2827481-640f-4113-a98a-06c61b7743d3"
      },
      "execution_count": 42,
      "outputs": [
        {
          "output_type": "execute_result",
          "data": {
            "text/plain": [
              "matrix([[1., 0., 0., 0., 0.],\n",
              "        [0., 1., 0., 0., 0.],\n",
              "        [0., 0., 1., 0., 0.],\n",
              "        [0., 0., 0., 1., 0.],\n",
              "        [0., 0., 0., 0., 1.]])"
            ]
          },
          "metadata": {},
          "execution_count": 42
        }
      ]
    },
    {
      "cell_type": "markdown",
      "source": [
        "# Numpy -> Linear Algebra"
      ],
      "metadata": {
        "id": "g3PVBsNzB7B9"
      }
    },
    {
      "cell_type": "code",
      "source": [
        "arr1 = np.random.randint([[2,3],[4,5]])\n",
        "arr2 = np.random.randint([[5,3],[2,5]])"
      ],
      "metadata": {
        "id": "70RJEnWHB_JI"
      },
      "execution_count": 44,
      "outputs": []
    },
    {
      "cell_type": "code",
      "source": [
        "print(arr1)\n",
        "print(arr2)"
      ],
      "metadata": {
        "colab": {
          "base_uri": "https://localhost:8080/"
        },
        "id": "K4RSUUF6CPpQ",
        "outputId": "c04aee54-5695-4468-af0f-7838b01934bf"
      },
      "execution_count": 45,
      "outputs": [
        {
          "output_type": "stream",
          "name": "stdout",
          "text": [
            "[[1 1]\n",
            " [2 2]]\n",
            "[[0 1]\n",
            " [1 0]]\n"
          ]
        }
      ]
    },
    {
      "cell_type": "code",
      "source": [
        "np.dot(arr1,arr2) # same work as @"
      ],
      "metadata": {
        "colab": {
          "base_uri": "https://localhost:8080/"
        },
        "id": "yh9EQ3OWCUgl",
        "outputId": "99483f1a-b613-41e1-8be2-9647775d6996"
      },
      "execution_count": 46,
      "outputs": [
        {
          "output_type": "execute_result",
          "data": {
            "text/plain": [
              "array([[1, 1],\n",
              "       [2, 2]])"
            ]
          },
          "metadata": {},
          "execution_count": 46
        }
      ]
    },
    {
      "cell_type": "code",
      "source": [
        "arr1@arr2 #it's matrix multiplication"
      ],
      "metadata": {
        "colab": {
          "base_uri": "https://localhost:8080/"
        },
        "id": "iLVdLA97CbZ0",
        "outputId": "06225943-1137-4fcc-b867-6934227afa2e"
      },
      "execution_count": 47,
      "outputs": [
        {
          "output_type": "execute_result",
          "data": {
            "text/plain": [
              "array([[1, 1],\n",
              "       [2, 2]])"
            ]
          },
          "metadata": {},
          "execution_count": 47
        }
      ]
    }
  ]
}