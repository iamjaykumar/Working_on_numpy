{
  "nbformat": 4,
  "nbformat_minor": 0,
  "metadata": {
    "colab": {
      "provenance": [],
      "mount_file_id": "19EmS5jZhakp5hjM-LDDAm8WEj88o-WW1",
      "authorship_tag": "ABX9TyNuiVhUR4cddzk3FofnlLfH",
      "include_colab_link": true
    },
    "kernelspec": {
      "name": "python3",
      "display_name": "Python 3"
    },
    "language_info": {
      "name": "python"
    }
  },
  "cells": [
    {
      "cell_type": "markdown",
      "metadata": {
        "id": "view-in-github",
        "colab_type": "text"
      },
      "source": [
        "<a href=\"https://colab.research.google.com/github/iamjaykumar/Working_on_numpy/blob/main/numpy_basics.ipynb\" target=\"_parent\"><img src=\"https://colab.research.google.com/assets/colab-badge.svg\" alt=\"Open In Colab\"/></a>"
      ]
    },
    {
      "cell_type": "markdown",
      "source": [
        "Numpy: numerical Python\n",
        "In Numpy we see about arrays"
      ],
      "metadata": {
        "id": "OtllpkfUOQy5"
      }
    },
    {
      "cell_type": "code",
      "execution_count": 2,
      "metadata": {
        "colab": {
          "base_uri": "https://localhost:8080/"
        },
        "id": "rV9hRUVkMJFF",
        "outputId": "a18b6784-1a54-4f97-cae1-ad128dbf42fa"
      },
      "outputs": [
        {
          "output_type": "execute_result",
          "data": {
            "text/plain": [
              "[1, 2, 3, 4]"
            ]
          },
          "metadata": {},
          "execution_count": 2
        }
      ],
      "source": [
        "import numpy as np\n",
        "l = [1,2,3,4]\n",
        "l"
      ]
    },
    {
      "cell_type": "code",
      "source": [
        "arr = np.array(l)\n",
        "arr"
      ],
      "metadata": {
        "colab": {
          "base_uri": "https://localhost:8080/"
        },
        "id": "xrulOLUdOe_D",
        "outputId": "115b4715-b263-452f-9ceb-796002ff2cd8"
      },
      "execution_count": 3,
      "outputs": [
        {
          "output_type": "execute_result",
          "data": {
            "text/plain": [
              "array([1, 2, 3, 4])"
            ]
          },
          "metadata": {},
          "execution_count": 3
        }
      ]
    },
    {
      "cell_type": "code",
      "source": [
        "type(arr)"
      ],
      "metadata": {
        "colab": {
          "base_uri": "https://localhost:8080/"
        },
        "id": "R91djVD8Okzm",
        "outputId": "4fb3b1a8-1d69-4cbe-a718-2d3a97968c46"
      },
      "execution_count": 4,
      "outputs": [
        {
          "output_type": "execute_result",
          "data": {
            "text/plain": [
              "numpy.ndarray"
            ]
          },
          "metadata": {},
          "execution_count": 4
        }
      ]
    },
    {
      "cell_type": "code",
      "source": [
        "np.array([[1,2],[3,4]])"
      ],
      "metadata": {
        "colab": {
          "base_uri": "https://localhost:8080/"
        },
        "id": "yZZfBhXTOoDg",
        "outputId": "3aebd18c-8b2c-4e34-ec8f-8fc20e88397c"
      },
      "execution_count": 5,
      "outputs": [
        {
          "output_type": "execute_result",
          "data": {
            "text/plain": [
              "array([[1, 2],\n",
              "       [3, 4]])"
            ]
          },
          "metadata": {},
          "execution_count": 5
        }
      ]
    },
    {
      "cell_type": "code",
      "source": [
        "np.asarray(l)"
      ],
      "metadata": {
        "colab": {
          "base_uri": "https://localhost:8080/"
        },
        "id": "nlCEQQy7OyF4",
        "outputId": "0d2dbb7b-a029-48d8-c851-40cb2a22a5a3"
      },
      "execution_count": 6,
      "outputs": [
        {
          "output_type": "execute_result",
          "data": {
            "text/plain": [
              "array([1, 2, 3, 4])"
            ]
          },
          "metadata": {},
          "execution_count": 6
        }
      ]
    },
    {
      "cell_type": "code",
      "source": [
        "b = np.matrix(l) #By default matrix is 2d"
      ],
      "metadata": {
        "id": "apE1QOPJO_Lk"
      },
      "execution_count": 7,
      "outputs": []
    },
    {
      "cell_type": "code",
      "source": [
        "b"
      ],
      "metadata": {
        "colab": {
          "base_uri": "https://localhost:8080/"
        },
        "id": "3NUNL7MJPG7N",
        "outputId": "b1fcd58b-1c36-43b0-dd43-0c85961a3f77"
      },
      "execution_count": 8,
      "outputs": [
        {
          "output_type": "execute_result",
          "data": {
            "text/plain": [
              "matrix([[1, 2, 3, 4]])"
            ]
          },
          "metadata": {},
          "execution_count": 8
        }
      ]
    },
    {
      "cell_type": "code",
      "source": [
        "d = np.copy(l)\n",
        "d"
      ],
      "metadata": {
        "colab": {
          "base_uri": "https://localhost:8080/"
        },
        "id": "leQItw-2Piz0",
        "outputId": "b9e47b69-db72-4d51-a001-e31c7c814a94"
      },
      "execution_count": 9,
      "outputs": [
        {
          "output_type": "execute_result",
          "data": {
            "text/plain": [
              "array([1, 2, 3, 4])"
            ]
          },
          "metadata": {},
          "execution_count": 9
        }
      ]
    },
    {
      "cell_type": "code",
      "source": [
        "l[1] = 400\n",
        "l"
      ],
      "metadata": {
        "colab": {
          "base_uri": "https://localhost:8080/"
        },
        "id": "csKMC_pGPxW9",
        "outputId": "2c0ff251-a4ff-42d9-b7d3-6e600f93d31c"
      },
      "execution_count": 10,
      "outputs": [
        {
          "output_type": "execute_result",
          "data": {
            "text/plain": [
              "[1, 400, 3, 4]"
            ]
          },
          "metadata": {},
          "execution_count": 10
        }
      ]
    },
    {
      "cell_type": "code",
      "source": [
        "d # it is the copy created in new location so no changes required"
      ],
      "metadata": {
        "colab": {
          "base_uri": "https://localhost:8080/"
        },
        "id": "RZwv2579PxCp",
        "outputId": "4d38a17c-512e-409b-ae48-6408401e01bc"
      },
      "execution_count": 11,
      "outputs": [
        {
          "output_type": "execute_result",
          "data": {
            "text/plain": [
              "array([1, 2, 3, 4])"
            ]
          },
          "metadata": {},
          "execution_count": 11
        }
      ]
    },
    {
      "cell_type": "markdown",
      "source": [
        "The numpy.fromfunction() method is a powerful way to create a NumPy array by defining a function that determines the value of each element based on its coordinates (indices).\n",
        "In the example provided, np.fromfunction(lambda i,j: i==j,(3,3)):\n",
        "\n",
        "The function is lambda i,j: i==j. This function takes two arguments, i and j, representing the row and column indices. It returns True if i equals j, and False otherwise.\n",
        "The shape is (3, 3), indicating a 3x3 array."
      ],
      "metadata": {
        "id": "5ogWc52zMhqF"
      }
    },
    {
      "cell_type": "code",
      "source": [
        "np.fromfunction(lambda i,j: i==j,(3,3))"
      ],
      "metadata": {
        "colab": {
          "base_uri": "https://localhost:8080/"
        },
        "id": "W7sEJTjfQvlX",
        "outputId": "5d2c0140-54c4-4ef4-ec00-393816cc0fe2"
      },
      "execution_count": 14,
      "outputs": [
        {
          "output_type": "execute_result",
          "data": {
            "text/plain": [
              "array([[ True, False, False],\n",
              "       [False,  True, False],\n",
              "       [False, False,  True]])"
            ]
          },
          "metadata": {},
          "execution_count": 14
        }
      ]
    },
    {
      "cell_type": "code",
      "source": [
        "np.fromfunction(lambda i,j: i*j,(3,3))"
      ],
      "metadata": {
        "colab": {
          "base_uri": "https://localhost:8080/"
        },
        "id": "yVUeDNDjMqD2",
        "outputId": "b931ecc6-003c-499f-d088-a5bc775decda"
      },
      "execution_count": 15,
      "outputs": [
        {
          "output_type": "execute_result",
          "data": {
            "text/plain": [
              "array([[0., 0., 0.],\n",
              "       [0., 1., 2.],\n",
              "       [0., 2., 4.]])"
            ]
          },
          "metadata": {},
          "execution_count": 15
        }
      ]
    },
    {
      "cell_type": "code",
      "source": [
        "iterable = (i*i for i in range(5))\n",
        "np.fromiter(iterable,int)#np.fromiter is a convenient way to create a NumPy array from any object that you can loop over (an iterable), which can be particularly useful when dealing with large datasets or when the data is generated on the fly."
      ],
      "metadata": {
        "colab": {
          "base_uri": "https://localhost:8080/"
        },
        "id": "c7zkSJiWM0D2",
        "outputId": "8f779190-d3d7-417a-a14c-bdd605008b37"
      },
      "execution_count": 17,
      "outputs": [
        {
          "output_type": "execute_result",
          "data": {
            "text/plain": [
              "array([ 0,  1,  4,  9, 16])"
            ]
          },
          "metadata": {},
          "execution_count": 17
        }
      ]
    },
    {
      "cell_type": "code",
      "source": [
        "np.fromstring('234 234',sep=' ')\n",
        "np.fromstring('234,234',sep=',')"
      ],
      "metadata": {
        "colab": {
          "base_uri": "https://localhost:8080/"
        },
        "id": "8nKaeMHcOHTB",
        "outputId": "75b0dc15-7913-4301-fd92-af05ab8e7b51"
      },
      "execution_count": 19,
      "outputs": [
        {
          "output_type": "execute_result",
          "data": {
            "text/plain": [
              "array([234., 234.])"
            ]
          },
          "metadata": {},
          "execution_count": 19
        }
      ]
    },
    {
      "cell_type": "code",
      "source": [
        "#Numpy data types\n",
        "l = [2,3,4,5,6]\n",
        "arr1 = np.array(l)\n",
        "arr1"
      ],
      "metadata": {
        "colab": {
          "base_uri": "https://localhost:8080/"
        },
        "id": "ea54GYgdOS1X",
        "outputId": "9ea11993-a93b-477f-aad4-e2ec51ae4155"
      },
      "execution_count": 21,
      "outputs": [
        {
          "output_type": "execute_result",
          "data": {
            "text/plain": [
              "array([2, 3, 4, 5, 6])"
            ]
          },
          "metadata": {},
          "execution_count": 21
        }
      ]
    },
    {
      "cell_type": "code",
      "source": [
        "arr1.ndim # ndim is used to check the number of dimensional array"
      ],
      "metadata": {
        "colab": {
          "base_uri": "https://localhost:8080/"
        },
        "id": "2N7Sk_7eOfkA",
        "outputId": "9d78bede-a0c3-42b2-fd08-80f08f33f134"
      },
      "execution_count": 22,
      "outputs": [
        {
          "output_type": "execute_result",
          "data": {
            "text/plain": [
              "1"
            ]
          },
          "metadata": {},
          "execution_count": 22
        }
      ]
    },
    {
      "cell_type": "code",
      "source": [
        "arr2 = np.array([[1,2,3,5,5],[1,3,3,42,4]])\n",
        "arr2\n",
        "arr2.ndim # it's  two dimensional"
      ],
      "metadata": {
        "colab": {
          "base_uri": "https://localhost:8080/"
        },
        "id": "YsGfK6_YOmXE",
        "outputId": "7bc15000-ac99-4d4b-9785-5efea897fd8c"
      },
      "execution_count": 24,
      "outputs": [
        {
          "output_type": "execute_result",
          "data": {
            "text/plain": [
              "2"
            ]
          },
          "metadata": {},
          "execution_count": 24
        }
      ]
    },
    {
      "cell_type": "code",
      "source": [
        "print(arr1.size)\n",
        "print(arr2.size)"
      ],
      "metadata": {
        "colab": {
          "base_uri": "https://localhost:8080/"
        },
        "id": "wFBvtfBTO5Hv",
        "outputId": "6eddcd42-8907-41aa-da36-5158b0e362b0"
      },
      "execution_count": 27,
      "outputs": [
        {
          "output_type": "stream",
          "name": "stdout",
          "text": [
            "5\n",
            "10\n"
          ]
        }
      ]
    },
    {
      "cell_type": "code",
      "source": [
        "print(arr2.shape)\n",
        "print(arr1.shape)"
      ],
      "metadata": {
        "colab": {
          "base_uri": "https://localhost:8080/"
        },
        "id": "v0kMbMRnPL59",
        "outputId": "a5434c66-27f9-48c4-c7f2-e3569e7a619e"
      },
      "execution_count": 28,
      "outputs": [
        {
          "output_type": "stream",
          "name": "stdout",
          "text": [
            "(2, 5)\n",
            "(5,)\n"
          ]
        }
      ]
    },
    {
      "cell_type": "code",
      "source": [
        "list(range(5)) #Range always take integer value"
      ],
      "metadata": {
        "colab": {
          "base_uri": "https://localhost:8080/"
        },
        "id": "15Atkej8PWxr",
        "outputId": "b69541ed-ad0c-44dd-937e-433e645ea4f0"
      },
      "execution_count": 29,
      "outputs": [
        {
          "output_type": "execute_result",
          "data": {
            "text/plain": [
              "[0, 1, 2, 3, 4]"
            ]
          },
          "metadata": {},
          "execution_count": 29
        }
      ]
    },
    {
      "cell_type": "markdown",
      "source": [
        "The np.arange() function is similar to Python's built-in range() function, but it is designed for creating NumPy arrays and can handle floating-point numbers."
      ],
      "metadata": {
        "id": "c6XVG7YAPzVx"
      }
    },
    {
      "cell_type": "code",
      "source": [
        "np.arange(2.3, 5.3)"
      ],
      "metadata": {
        "colab": {
          "base_uri": "https://localhost:8080/"
        },
        "id": "N2U8GbtoPkr1",
        "outputId": "7a631188-4221-47ad-92d4-f04e7280c0cd"
      },
      "execution_count": 31,
      "outputs": [
        {
          "output_type": "execute_result",
          "data": {
            "text/plain": [
              "array([2.3, 3.3, 4.3])"
            ]
          },
          "metadata": {},
          "execution_count": 31
        }
      ]
    },
    {
      "cell_type": "code",
      "source": [
        "np.arange(2.3, 5.3, 0.5)"
      ],
      "metadata": {
        "colab": {
          "base_uri": "https://localhost:8080/"
        },
        "id": "8xNhXnUBP0ym",
        "outputId": "e1054be5-efc2-4f4c-cfd1-217848051123"
      },
      "execution_count": 32,
      "outputs": [
        {
          "output_type": "execute_result",
          "data": {
            "text/plain": [
              "array([2.3, 2.8, 3.3, 3.8, 4.3, 4.8])"
            ]
          },
          "metadata": {},
          "execution_count": 32
        }
      ]
    },
    {
      "cell_type": "code",
      "source": [
        "list(np.arange(2.3, 5.6, 0.3))  #array to list is also possible"
      ],
      "metadata": {
        "colab": {
          "base_uri": "https://localhost:8080/"
        },
        "id": "k1DkvZsPP8CE",
        "outputId": "a95c6cb7-a620-47fd-bfd1-b77d31beefde"
      },
      "execution_count": 34,
      "outputs": [
        {
          "output_type": "execute_result",
          "data": {
            "text/plain": [
              "[np.float64(2.3),\n",
              " np.float64(2.5999999999999996),\n",
              " np.float64(2.8999999999999995),\n",
              " np.float64(3.1999999999999993),\n",
              " np.float64(3.499999999999999),\n",
              " np.float64(3.799999999999999),\n",
              " np.float64(4.099999999999999),\n",
              " np.float64(4.399999999999999),\n",
              " np.float64(4.699999999999998),\n",
              " np.float64(4.999999999999998),\n",
              " np.float64(5.299999999999998)]"
            ]
          },
          "metadata": {},
          "execution_count": 34
        }
      ]
    },
    {
      "cell_type": "code",
      "source": [
        "np.linspace(1,5,10) # 1 to 5 it will give 10 values"
      ],
      "metadata": {
        "colab": {
          "base_uri": "https://localhost:8080/"
        },
        "id": "HDzYeE3MQGGV",
        "outputId": "a0cb9a71-734b-4ac1-e4cf-05c3fc5fdb9a"
      },
      "execution_count": 35,
      "outputs": [
        {
          "output_type": "execute_result",
          "data": {
            "text/plain": [
              "array([1.        , 1.44444444, 1.88888889, 2.33333333, 2.77777778,\n",
              "       3.22222222, 3.66666667, 4.11111111, 4.55555556, 5.        ])"
            ]
          },
          "metadata": {},
          "execution_count": 35
        }
      ]
    },
    {
      "cell_type": "code",
      "source": [
        "np.zeros(5) #1D(1 square bracket)"
      ],
      "metadata": {
        "colab": {
          "base_uri": "https://localhost:8080/"
        },
        "id": "eJH_E1jWQeqD",
        "outputId": "86f69918-de30-4951-a825-1e4ea9571f5a"
      },
      "execution_count": 36,
      "outputs": [
        {
          "output_type": "execute_result",
          "data": {
            "text/plain": [
              "array([0., 0., 0., 0., 0.])"
            ]
          },
          "metadata": {},
          "execution_count": 36
        }
      ]
    },
    {
      "cell_type": "code",
      "source": [
        "np.zeros((3,4)) #2D (2 square bracket) 3rows, 4col"
      ],
      "metadata": {
        "colab": {
          "base_uri": "https://localhost:8080/"
        },
        "id": "TEhZa9H-QqSF",
        "outputId": "742386cd-4094-4f83-f55c-b50b22dc4847"
      },
      "execution_count": 37,
      "outputs": [
        {
          "output_type": "execute_result",
          "data": {
            "text/plain": [
              "array([[0., 0., 0., 0.],\n",
              "       [0., 0., 0., 0.],\n",
              "       [0., 0., 0., 0.]])"
            ]
          },
          "metadata": {},
          "execution_count": 37
        }
      ]
    },
    {
      "cell_type": "code",
      "source": [
        "np.zeros((3,4,2)) #3D (3 square bracket) we have 4 corss 2 and 3 such kind of matrix"
      ],
      "metadata": {
        "colab": {
          "base_uri": "https://localhost:8080/"
        },
        "id": "VkoTco44Q4T5",
        "outputId": "8c3a4fd9-dd0b-46d7-f4bf-28ad0b36124a"
      },
      "execution_count": 38,
      "outputs": [
        {
          "output_type": "execute_result",
          "data": {
            "text/plain": [
              "array([[[0., 0.],\n",
              "        [0., 0.],\n",
              "        [0., 0.],\n",
              "        [0., 0.]],\n",
              "\n",
              "       [[0., 0.],\n",
              "        [0., 0.],\n",
              "        [0., 0.],\n",
              "        [0., 0.]],\n",
              "\n",
              "       [[0., 0.],\n",
              "        [0., 0.],\n",
              "        [0., 0.],\n",
              "        [0., 0.]]])"
            ]
          },
          "metadata": {},
          "execution_count": 38
        }
      ]
    },
    {
      "cell_type": "code",
      "source": [
        "\n",
        "np.zeros((3,4,2,3))     #4D  We have 2 cross 3, four such matrixes"
      ],
      "metadata": {
        "colab": {
          "base_uri": "https://localhost:8080/"
        },
        "id": "msTh3MaGRObv",
        "outputId": "9653cf76-a5d1-4057-9bf9-e92cd2a97fb9"
      },
      "execution_count": 39,
      "outputs": [
        {
          "output_type": "execute_result",
          "data": {
            "text/plain": [
              "array([[[[0., 0., 0.],\n",
              "         [0., 0., 0.]],\n",
              "\n",
              "        [[0., 0., 0.],\n",
              "         [0., 0., 0.]],\n",
              "\n",
              "        [[0., 0., 0.],\n",
              "         [0., 0., 0.]],\n",
              "\n",
              "        [[0., 0., 0.],\n",
              "         [0., 0., 0.]]],\n",
              "\n",
              "\n",
              "       [[[0., 0., 0.],\n",
              "         [0., 0., 0.]],\n",
              "\n",
              "        [[0., 0., 0.],\n",
              "         [0., 0., 0.]],\n",
              "\n",
              "        [[0., 0., 0.],\n",
              "         [0., 0., 0.]],\n",
              "\n",
              "        [[0., 0., 0.],\n",
              "         [0., 0., 0.]]],\n",
              "\n",
              "\n",
              "       [[[0., 0., 0.],\n",
              "         [0., 0., 0.]],\n",
              "\n",
              "        [[0., 0., 0.],\n",
              "         [0., 0., 0.]],\n",
              "\n",
              "        [[0., 0., 0.],\n",
              "         [0., 0., 0.]],\n",
              "\n",
              "        [[0., 0., 0.],\n",
              "         [0., 0., 0.]]]])"
            ]
          },
          "metadata": {},
          "execution_count": 39
        }
      ]
    },
    {
      "cell_type": "code",
      "source": [
        "arr4 = np.zeros((3,4,2,3))\n",
        "arr4"
      ],
      "metadata": {
        "colab": {
          "base_uri": "https://localhost:8080/"
        },
        "id": "i4wteAQbRVvE",
        "outputId": "c415bd8c-eca1-4083-da25-8082ad95b85b"
      },
      "execution_count": 41,
      "outputs": [
        {
          "output_type": "execute_result",
          "data": {
            "text/plain": [
              "array([[[[0., 0., 0.],\n",
              "         [0., 0., 0.]],\n",
              "\n",
              "        [[0., 0., 0.],\n",
              "         [0., 0., 0.]],\n",
              "\n",
              "        [[0., 0., 0.],\n",
              "         [0., 0., 0.]],\n",
              "\n",
              "        [[0., 0., 0.],\n",
              "         [0., 0., 0.]]],\n",
              "\n",
              "\n",
              "       [[[0., 0., 0.],\n",
              "         [0., 0., 0.]],\n",
              "\n",
              "        [[0., 0., 0.],\n",
              "         [0., 0., 0.]],\n",
              "\n",
              "        [[0., 0., 0.],\n",
              "         [0., 0., 0.]],\n",
              "\n",
              "        [[0., 0., 0.],\n",
              "         [0., 0., 0.]]],\n",
              "\n",
              "\n",
              "       [[[0., 0., 0.],\n",
              "         [0., 0., 0.]],\n",
              "\n",
              "        [[0., 0., 0.],\n",
              "         [0., 0., 0.]],\n",
              "\n",
              "        [[0., 0., 0.],\n",
              "         [0., 0., 0.]],\n",
              "\n",
              "        [[0., 0., 0.],\n",
              "         [0., 0., 0.]]]])"
            ]
          },
          "metadata": {},
          "execution_count": 41
        }
      ]
    },
    {
      "cell_type": "code",
      "source": [
        "print(arr4.ndim)\n",
        "print(np.ones(4))\n"
      ],
      "metadata": {
        "colab": {
          "base_uri": "https://localhost:8080/"
        },
        "id": "PRLJ9ntpRhOC",
        "outputId": "6fb7b695-cc22-4cb6-82d4-d7a3df6c77fa"
      },
      "execution_count": 46,
      "outputs": [
        {
          "output_type": "stream",
          "name": "stdout",
          "text": [
            "4\n",
            "[1. 1. 1. 1.]\n"
          ]
        }
      ]
    },
    {
      "cell_type": "code",
      "source": [
        "# to print Identity matrix\n",
        "np.eye(4)"
      ],
      "metadata": {
        "colab": {
          "base_uri": "https://localhost:8080/"
        },
        "id": "qZsDjDEFR116",
        "outputId": "a0cccc46-1b4d-410c-866c-eb1b564e5c89"
      },
      "execution_count": 47,
      "outputs": [
        {
          "output_type": "execute_result",
          "data": {
            "text/plain": [
              "array([[1., 0., 0., 0.],\n",
              "       [0., 1., 0., 0.],\n",
              "       [0., 0., 1., 0.],\n",
              "       [0., 0., 0., 1.]])"
            ]
          },
          "metadata": {},
          "execution_count": 47
        }
      ]
    },
    {
      "cell_type": "code",
      "source": [
        "np.logspace(2,5 , 10)     #It will give log value between 2 to 5\n",
        "                            #And it will give 10 values (between 2 to 5)\n",
        "                            #By default base value is 10 but we can change"
      ],
      "metadata": {
        "colab": {
          "base_uri": "https://localhost:8080/"
        },
        "id": "rIQcq6_USB8Y",
        "outputId": "2035faaa-328b-417b-9187-ab9bd7e680ef"
      },
      "execution_count": 48,
      "outputs": [
        {
          "output_type": "execute_result",
          "data": {
            "text/plain": [
              "array([   100.        ,    215.443469  ,    464.15888336,   1000.        ,\n",
              "         2154.43469003,   4641.58883361,  10000.        ,  21544.34690032,\n",
              "        46415.88833613, 100000.        ])"
            ]
          },
          "metadata": {},
          "execution_count": 48
        }
      ]
    },
    {
      "cell_type": "markdown",
      "source": [
        "playing with random value"
      ],
      "metadata": {
        "id": "kPUIMzIrSU0d"
      }
    },
    {
      "cell_type": "code",
      "source": [
        "np.random.randn(3)\n",
        "np.random.randn(3,4)"
      ],
      "metadata": {
        "colab": {
          "base_uri": "https://localhost:8080/"
        },
        "id": "h_mZED5HSbEz",
        "outputId": "8e0b26a0-150b-40b6-962c-839a1e002a66"
      },
      "execution_count": 51,
      "outputs": [
        {
          "output_type": "execute_result",
          "data": {
            "text/plain": [
              "array([[ 1.11548426,  1.41444203, -1.73965657, -0.34369948],\n",
              "       [ 1.35114394, -0.48805383,  0.82299873,  0.52507112],\n",
              "       [ 1.47723743, -0.97014184, -2.63834939, -1.54051541]])"
            ]
          },
          "metadata": {},
          "execution_count": 51
        }
      ]
    },
    {
      "cell_type": "code",
      "source": [
        "arr = np.random.randn(3,4)    #In case of random.randn fun mean is 0 and Standard Dev is 1(Normal Distribution"
      ],
      "metadata": {
        "id": "GquaSLEJSj1E"
      },
      "execution_count": 52,
      "outputs": []
    },
    {
      "cell_type": "markdown",
      "source": [
        "Integration between pandas and numpy"
      ],
      "metadata": {
        "id": "SVY1mNZPSzj-"
      }
    },
    {
      "cell_type": "code",
      "source": [
        "import pandas as pd"
      ],
      "metadata": {
        "id": "KTKuroCRSvyn"
      },
      "execution_count": 53,
      "outputs": []
    },
    {
      "cell_type": "code",
      "source": [
        "pd.DataFrame(arr)"
      ],
      "metadata": {
        "colab": {
          "base_uri": "https://localhost:8080/",
          "height": 143
        },
        "id": "zj89XiGJSyGg",
        "outputId": "cedb94ba-dcb5-42b8-f191-8c5444f05c88"
      },
      "execution_count": 54,
      "outputs": [
        {
          "output_type": "execute_result",
          "data": {
            "text/plain": [
              "          0         1         2         3\n",
              "0 -1.520475  0.117338 -1.172156  0.280389\n",
              "1 -0.470508  0.210570  0.078815  1.051926\n",
              "2  1.203171 -0.136616 -1.131745 -0.775901"
            ],
            "text/html": [
              "\n",
              "  <div id=\"df-9aca48f6-cb15-4a4d-9e19-90c8406da093\" class=\"colab-df-container\">\n",
              "    <div>\n",
              "<style scoped>\n",
              "    .dataframe tbody tr th:only-of-type {\n",
              "        vertical-align: middle;\n",
              "    }\n",
              "\n",
              "    .dataframe tbody tr th {\n",
              "        vertical-align: top;\n",
              "    }\n",
              "\n",
              "    .dataframe thead th {\n",
              "        text-align: right;\n",
              "    }\n",
              "</style>\n",
              "<table border=\"1\" class=\"dataframe\">\n",
              "  <thead>\n",
              "    <tr style=\"text-align: right;\">\n",
              "      <th></th>\n",
              "      <th>0</th>\n",
              "      <th>1</th>\n",
              "      <th>2</th>\n",
              "      <th>3</th>\n",
              "    </tr>\n",
              "  </thead>\n",
              "  <tbody>\n",
              "    <tr>\n",
              "      <th>0</th>\n",
              "      <td>-1.520475</td>\n",
              "      <td>0.117338</td>\n",
              "      <td>-1.172156</td>\n",
              "      <td>0.280389</td>\n",
              "    </tr>\n",
              "    <tr>\n",
              "      <th>1</th>\n",
              "      <td>-0.470508</td>\n",
              "      <td>0.210570</td>\n",
              "      <td>0.078815</td>\n",
              "      <td>1.051926</td>\n",
              "    </tr>\n",
              "    <tr>\n",
              "      <th>2</th>\n",
              "      <td>1.203171</td>\n",
              "      <td>-0.136616</td>\n",
              "      <td>-1.131745</td>\n",
              "      <td>-0.775901</td>\n",
              "    </tr>\n",
              "  </tbody>\n",
              "</table>\n",
              "</div>\n",
              "    <div class=\"colab-df-buttons\">\n",
              "\n",
              "  <div class=\"colab-df-container\">\n",
              "    <button class=\"colab-df-convert\" onclick=\"convertToInteractive('df-9aca48f6-cb15-4a4d-9e19-90c8406da093')\"\n",
              "            title=\"Convert this dataframe to an interactive table.\"\n",
              "            style=\"display:none;\">\n",
              "\n",
              "  <svg xmlns=\"http://www.w3.org/2000/svg\" height=\"24px\" viewBox=\"0 -960 960 960\">\n",
              "    <path d=\"M120-120v-720h720v720H120Zm60-500h600v-160H180v160Zm220 220h160v-160H400v160Zm0 220h160v-160H400v160ZM180-400h160v-160H180v160Zm440 0h160v-160H620v160ZM180-180h160v-160H180v160Zm440 0h160v-160H620v160Z\"/>\n",
              "  </svg>\n",
              "    </button>\n",
              "\n",
              "  <style>\n",
              "    .colab-df-container {\n",
              "      display:flex;\n",
              "      gap: 12px;\n",
              "    }\n",
              "\n",
              "    .colab-df-convert {\n",
              "      background-color: #E8F0FE;\n",
              "      border: none;\n",
              "      border-radius: 50%;\n",
              "      cursor: pointer;\n",
              "      display: none;\n",
              "      fill: #1967D2;\n",
              "      height: 32px;\n",
              "      padding: 0 0 0 0;\n",
              "      width: 32px;\n",
              "    }\n",
              "\n",
              "    .colab-df-convert:hover {\n",
              "      background-color: #E2EBFA;\n",
              "      box-shadow: 0px 1px 2px rgba(60, 64, 67, 0.3), 0px 1px 3px 1px rgba(60, 64, 67, 0.15);\n",
              "      fill: #174EA6;\n",
              "    }\n",
              "\n",
              "    .colab-df-buttons div {\n",
              "      margin-bottom: 4px;\n",
              "    }\n",
              "\n",
              "    [theme=dark] .colab-df-convert {\n",
              "      background-color: #3B4455;\n",
              "      fill: #D2E3FC;\n",
              "    }\n",
              "\n",
              "    [theme=dark] .colab-df-convert:hover {\n",
              "      background-color: #434B5C;\n",
              "      box-shadow: 0px 1px 3px 1px rgba(0, 0, 0, 0.15);\n",
              "      filter: drop-shadow(0px 1px 2px rgba(0, 0, 0, 0.3));\n",
              "      fill: #FFFFFF;\n",
              "    }\n",
              "  </style>\n",
              "\n",
              "    <script>\n",
              "      const buttonEl =\n",
              "        document.querySelector('#df-9aca48f6-cb15-4a4d-9e19-90c8406da093 button.colab-df-convert');\n",
              "      buttonEl.style.display =\n",
              "        google.colab.kernel.accessAllowed ? 'block' : 'none';\n",
              "\n",
              "      async function convertToInteractive(key) {\n",
              "        const element = document.querySelector('#df-9aca48f6-cb15-4a4d-9e19-90c8406da093');\n",
              "        const dataTable =\n",
              "          await google.colab.kernel.invokeFunction('convertToInteractive',\n",
              "                                                    [key], {});\n",
              "        if (!dataTable) return;\n",
              "\n",
              "        const docLinkHtml = 'Like what you see? Visit the ' +\n",
              "          '<a target=\"_blank\" href=https://colab.research.google.com/notebooks/data_table.ipynb>data table notebook</a>'\n",
              "          + ' to learn more about interactive tables.';\n",
              "        element.innerHTML = '';\n",
              "        dataTable['output_type'] = 'display_data';\n",
              "        await google.colab.output.renderOutput(dataTable, element);\n",
              "        const docLink = document.createElement('div');\n",
              "        docLink.innerHTML = docLinkHtml;\n",
              "        element.appendChild(docLink);\n",
              "      }\n",
              "    </script>\n",
              "  </div>\n",
              "\n",
              "\n",
              "    <div id=\"df-6167c72e-3032-4965-b07b-00f67456c076\">\n",
              "      <button class=\"colab-df-quickchart\" onclick=\"quickchart('df-6167c72e-3032-4965-b07b-00f67456c076')\"\n",
              "                title=\"Suggest charts\"\n",
              "                style=\"display:none;\">\n",
              "\n",
              "<svg xmlns=\"http://www.w3.org/2000/svg\" height=\"24px\"viewBox=\"0 0 24 24\"\n",
              "     width=\"24px\">\n",
              "    <g>\n",
              "        <path d=\"M19 3H5c-1.1 0-2 .9-2 2v14c0 1.1.9 2 2 2h14c1.1 0 2-.9 2-2V5c0-1.1-.9-2-2-2zM9 17H7v-7h2v7zm4 0h-2V7h2v10zm4 0h-2v-4h2v4z\"/>\n",
              "    </g>\n",
              "</svg>\n",
              "      </button>\n",
              "\n",
              "<style>\n",
              "  .colab-df-quickchart {\n",
              "      --bg-color: #E8F0FE;\n",
              "      --fill-color: #1967D2;\n",
              "      --hover-bg-color: #E2EBFA;\n",
              "      --hover-fill-color: #174EA6;\n",
              "      --disabled-fill-color: #AAA;\n",
              "      --disabled-bg-color: #DDD;\n",
              "  }\n",
              "\n",
              "  [theme=dark] .colab-df-quickchart {\n",
              "      --bg-color: #3B4455;\n",
              "      --fill-color: #D2E3FC;\n",
              "      --hover-bg-color: #434B5C;\n",
              "      --hover-fill-color: #FFFFFF;\n",
              "      --disabled-bg-color: #3B4455;\n",
              "      --disabled-fill-color: #666;\n",
              "  }\n",
              "\n",
              "  .colab-df-quickchart {\n",
              "    background-color: var(--bg-color);\n",
              "    border: none;\n",
              "    border-radius: 50%;\n",
              "    cursor: pointer;\n",
              "    display: none;\n",
              "    fill: var(--fill-color);\n",
              "    height: 32px;\n",
              "    padding: 0;\n",
              "    width: 32px;\n",
              "  }\n",
              "\n",
              "  .colab-df-quickchart:hover {\n",
              "    background-color: var(--hover-bg-color);\n",
              "    box-shadow: 0 1px 2px rgba(60, 64, 67, 0.3), 0 1px 3px 1px rgba(60, 64, 67, 0.15);\n",
              "    fill: var(--button-hover-fill-color);\n",
              "  }\n",
              "\n",
              "  .colab-df-quickchart-complete:disabled,\n",
              "  .colab-df-quickchart-complete:disabled:hover {\n",
              "    background-color: var(--disabled-bg-color);\n",
              "    fill: var(--disabled-fill-color);\n",
              "    box-shadow: none;\n",
              "  }\n",
              "\n",
              "  .colab-df-spinner {\n",
              "    border: 2px solid var(--fill-color);\n",
              "    border-color: transparent;\n",
              "    border-bottom-color: var(--fill-color);\n",
              "    animation:\n",
              "      spin 1s steps(1) infinite;\n",
              "  }\n",
              "\n",
              "  @keyframes spin {\n",
              "    0% {\n",
              "      border-color: transparent;\n",
              "      border-bottom-color: var(--fill-color);\n",
              "      border-left-color: var(--fill-color);\n",
              "    }\n",
              "    20% {\n",
              "      border-color: transparent;\n",
              "      border-left-color: var(--fill-color);\n",
              "      border-top-color: var(--fill-color);\n",
              "    }\n",
              "    30% {\n",
              "      border-color: transparent;\n",
              "      border-left-color: var(--fill-color);\n",
              "      border-top-color: var(--fill-color);\n",
              "      border-right-color: var(--fill-color);\n",
              "    }\n",
              "    40% {\n",
              "      border-color: transparent;\n",
              "      border-right-color: var(--fill-color);\n",
              "      border-top-color: var(--fill-color);\n",
              "    }\n",
              "    60% {\n",
              "      border-color: transparent;\n",
              "      border-right-color: var(--fill-color);\n",
              "    }\n",
              "    80% {\n",
              "      border-color: transparent;\n",
              "      border-right-color: var(--fill-color);\n",
              "      border-bottom-color: var(--fill-color);\n",
              "    }\n",
              "    90% {\n",
              "      border-color: transparent;\n",
              "      border-bottom-color: var(--fill-color);\n",
              "    }\n",
              "  }\n",
              "</style>\n",
              "\n",
              "      <script>\n",
              "        async function quickchart(key) {\n",
              "          const quickchartButtonEl =\n",
              "            document.querySelector('#' + key + ' button');\n",
              "          quickchartButtonEl.disabled = true;  // To prevent multiple clicks.\n",
              "          quickchartButtonEl.classList.add('colab-df-spinner');\n",
              "          try {\n",
              "            const charts = await google.colab.kernel.invokeFunction(\n",
              "                'suggestCharts', [key], {});\n",
              "          } catch (error) {\n",
              "            console.error('Error during call to suggestCharts:', error);\n",
              "          }\n",
              "          quickchartButtonEl.classList.remove('colab-df-spinner');\n",
              "          quickchartButtonEl.classList.add('colab-df-quickchart-complete');\n",
              "        }\n",
              "        (() => {\n",
              "          let quickchartButtonEl =\n",
              "            document.querySelector('#df-6167c72e-3032-4965-b07b-00f67456c076 button');\n",
              "          quickchartButtonEl.style.display =\n",
              "            google.colab.kernel.accessAllowed ? 'block' : 'none';\n",
              "        })();\n",
              "      </script>\n",
              "    </div>\n",
              "\n",
              "    </div>\n",
              "  </div>\n"
            ],
            "application/vnd.google.colaboratory.intrinsic+json": {
              "type": "dataframe",
              "summary": "{\n  \"name\": \"pd\",\n  \"rows\": 3,\n  \"fields\": [\n    {\n      \"column\": 0,\n      \"properties\": {\n        \"dtype\": \"number\",\n        \"std\": 1.373674223085743,\n        \"min\": -1.5204754047707187,\n        \"max\": 1.2031713192434794,\n        \"num_unique_values\": 3,\n        \"samples\": [\n          -1.5204754047707187,\n          -0.47050778759719447,\n          1.2031713192434794\n        ],\n        \"semantic_type\": \"\",\n        \"description\": \"\"\n      }\n    },\n    {\n      \"column\": 1,\n      \"properties\": {\n        \"dtype\": \"number\",\n        \"std\": 0.17968643025410394,\n        \"min\": -0.13661607690006133,\n        \"max\": 0.210570114727662,\n        \"num_unique_values\": 3,\n        \"samples\": [\n          0.11733839589097271,\n          0.210570114727662,\n          -0.13661607690006133\n        ],\n        \"semantic_type\": \"\",\n        \"description\": \"\"\n      }\n    },\n    {\n      \"column\": 2,\n      \"properties\": {\n        \"dtype\": \"number\",\n        \"std\": 0.7108700801279966,\n        \"min\": -1.17215627894593,\n        \"max\": 0.07881476106981214,\n        \"num_unique_values\": 3,\n        \"samples\": [\n          -1.17215627894593,\n          0.07881476106981214,\n          -1.1317454595062875\n        ],\n        \"semantic_type\": \"\",\n        \"description\": \"\"\n      }\n    },\n    {\n      \"column\": 3,\n      \"properties\": {\n        \"dtype\": \"number\",\n        \"std\": 0.9176028973337549,\n        \"min\": -0.7759011384420538,\n        \"max\": 1.0519260020997423,\n        \"num_unique_values\": 3,\n        \"samples\": [\n          0.2803893604725172,\n          1.0519260020997423,\n          -0.7759011384420538\n        ],\n        \"semantic_type\": \"\",\n        \"description\": \"\"\n      }\n    }\n  ]\n}"
            }
          },
          "metadata": {},
          "execution_count": 54
        }
      ]
    },
    {
      "cell_type": "code",
      "source": [
        "np.random.randint(1,100,(3,4)) # #It will generate random data between 1 to 110 (3 rows and 4 col)"
      ],
      "metadata": {
        "colab": {
          "base_uri": "https://localhost:8080/"
        },
        "id": "WwIrcyHoS8Mi",
        "outputId": "2c528acc-7642-4a7c-8428-7749d6bed7f5"
      },
      "execution_count": 56,
      "outputs": [
        {
          "output_type": "execute_result",
          "data": {
            "text/plain": [
              "array([[66,  2, 40, 42],\n",
              "       [87, 38, 49, 58],\n",
              "       [71, 55, 66, 30]])"
            ]
          },
          "metadata": {},
          "execution_count": 56
        }
      ]
    },
    {
      "cell_type": "code",
      "source": [
        "np.random.randint(1,100,(300,400))"
      ],
      "metadata": {
        "colab": {
          "base_uri": "https://localhost:8080/"
        },
        "id": "ABuIibNyTODb",
        "outputId": "dacd0eec-39d1-4f9d-b8b0-ad8254d2a3a2"
      },
      "execution_count": 57,
      "outputs": [
        {
          "output_type": "execute_result",
          "data": {
            "text/plain": [
              "array([[14, 67, 65, ..., 59, 74, 32],\n",
              "       [17, 22, 65, ..., 59, 95, 57],\n",
              "       [14, 63, 54, ..., 99, 17, 10],\n",
              "       ...,\n",
              "       [54, 13, 90, ..., 13, 13, 73],\n",
              "       [97, 95, 14, ..., 81, 19, 40],\n",
              "       [84, 33, 93, ..., 99, 78, 31]])"
            ]
          },
          "metadata": {},
          "execution_count": 57
        }
      ]
    },
    {
      "cell_type": "code",
      "source": [
        "pd.DataFrame(np.random.randint(1,100,(300,400)))"
      ],
      "metadata": {
        "colab": {
          "base_uri": "https://localhost:8080/",
          "height": 443
        },
        "id": "gsUWpcOpTX2J",
        "outputId": "ab8d817d-e843-4fc9-a127-e8e5d307d04d"
      },
      "execution_count": 58,
      "outputs": [
        {
          "output_type": "execute_result",
          "data": {
            "text/plain": [
              "     0    1    2    3    4    5    6    7    8    9    ...  390  391  392  \\\n",
              "0     53   74   91    9    2   99   56   19   35   74  ...   26   82   72   \n",
              "1     47   62   58   27   81   57    7   36    3   77  ...    6   76   42   \n",
              "2      5   35   41   71   68   60   48   95    8   88  ...   11   34   95   \n",
              "3     41   70   38   55   12   47   32   71    2   31  ...   79   67   51   \n",
              "4     54   13   20    5   33   12   46   59   68   86  ...   20   89   27   \n",
              "..   ...  ...  ...  ...  ...  ...  ...  ...  ...  ...  ...  ...  ...  ...   \n",
              "295   37   87   91   44   80   54   98   10   45   28  ...   44   20   55   \n",
              "296   83   64   53    8   35   39   80   28   29    5  ...   73   80   35   \n",
              "297   17   74   36   78   22   73   86   63   80   77  ...   23   54    3   \n",
              "298   97   72   77   87   30   93   78    3   74   38  ...   92   34   12   \n",
              "299   81   33   45   31   17   59    4    5   53   50  ...    7   48   18   \n",
              "\n",
              "     393  394  395  396  397  398  399  \n",
              "0     45   43   19   31   95    2   16  \n",
              "1     89   65   47   41   12   98    1  \n",
              "2     25   13   92   78   20    3   20  \n",
              "3     79   55   99   68   77   35   90  \n",
              "4     27   95   12    4   32   63   80  \n",
              "..   ...  ...  ...  ...  ...  ...  ...  \n",
              "295   57   47   83   45   69   31   38  \n",
              "296   40   44   17   12   25   12   50  \n",
              "297   35   53   27   55   74   37    8  \n",
              "298   21   20   93   43   41   96   35  \n",
              "299    2   93   59   59   80   36   64  \n",
              "\n",
              "[300 rows x 400 columns]"
            ],
            "text/html": [
              "\n",
              "  <div id=\"df-e61904f8-029a-4463-8013-ad594aad15ae\" class=\"colab-df-container\">\n",
              "    <div>\n",
              "<style scoped>\n",
              "    .dataframe tbody tr th:only-of-type {\n",
              "        vertical-align: middle;\n",
              "    }\n",
              "\n",
              "    .dataframe tbody tr th {\n",
              "        vertical-align: top;\n",
              "    }\n",
              "\n",
              "    .dataframe thead th {\n",
              "        text-align: right;\n",
              "    }\n",
              "</style>\n",
              "<table border=\"1\" class=\"dataframe\">\n",
              "  <thead>\n",
              "    <tr style=\"text-align: right;\">\n",
              "      <th></th>\n",
              "      <th>0</th>\n",
              "      <th>1</th>\n",
              "      <th>2</th>\n",
              "      <th>3</th>\n",
              "      <th>4</th>\n",
              "      <th>5</th>\n",
              "      <th>6</th>\n",
              "      <th>7</th>\n",
              "      <th>8</th>\n",
              "      <th>9</th>\n",
              "      <th>...</th>\n",
              "      <th>390</th>\n",
              "      <th>391</th>\n",
              "      <th>392</th>\n",
              "      <th>393</th>\n",
              "      <th>394</th>\n",
              "      <th>395</th>\n",
              "      <th>396</th>\n",
              "      <th>397</th>\n",
              "      <th>398</th>\n",
              "      <th>399</th>\n",
              "    </tr>\n",
              "  </thead>\n",
              "  <tbody>\n",
              "    <tr>\n",
              "      <th>0</th>\n",
              "      <td>53</td>\n",
              "      <td>74</td>\n",
              "      <td>91</td>\n",
              "      <td>9</td>\n",
              "      <td>2</td>\n",
              "      <td>99</td>\n",
              "      <td>56</td>\n",
              "      <td>19</td>\n",
              "      <td>35</td>\n",
              "      <td>74</td>\n",
              "      <td>...</td>\n",
              "      <td>26</td>\n",
              "      <td>82</td>\n",
              "      <td>72</td>\n",
              "      <td>45</td>\n",
              "      <td>43</td>\n",
              "      <td>19</td>\n",
              "      <td>31</td>\n",
              "      <td>95</td>\n",
              "      <td>2</td>\n",
              "      <td>16</td>\n",
              "    </tr>\n",
              "    <tr>\n",
              "      <th>1</th>\n",
              "      <td>47</td>\n",
              "      <td>62</td>\n",
              "      <td>58</td>\n",
              "      <td>27</td>\n",
              "      <td>81</td>\n",
              "      <td>57</td>\n",
              "      <td>7</td>\n",
              "      <td>36</td>\n",
              "      <td>3</td>\n",
              "      <td>77</td>\n",
              "      <td>...</td>\n",
              "      <td>6</td>\n",
              "      <td>76</td>\n",
              "      <td>42</td>\n",
              "      <td>89</td>\n",
              "      <td>65</td>\n",
              "      <td>47</td>\n",
              "      <td>41</td>\n",
              "      <td>12</td>\n",
              "      <td>98</td>\n",
              "      <td>1</td>\n",
              "    </tr>\n",
              "    <tr>\n",
              "      <th>2</th>\n",
              "      <td>5</td>\n",
              "      <td>35</td>\n",
              "      <td>41</td>\n",
              "      <td>71</td>\n",
              "      <td>68</td>\n",
              "      <td>60</td>\n",
              "      <td>48</td>\n",
              "      <td>95</td>\n",
              "      <td>8</td>\n",
              "      <td>88</td>\n",
              "      <td>...</td>\n",
              "      <td>11</td>\n",
              "      <td>34</td>\n",
              "      <td>95</td>\n",
              "      <td>25</td>\n",
              "      <td>13</td>\n",
              "      <td>92</td>\n",
              "      <td>78</td>\n",
              "      <td>20</td>\n",
              "      <td>3</td>\n",
              "      <td>20</td>\n",
              "    </tr>\n",
              "    <tr>\n",
              "      <th>3</th>\n",
              "      <td>41</td>\n",
              "      <td>70</td>\n",
              "      <td>38</td>\n",
              "      <td>55</td>\n",
              "      <td>12</td>\n",
              "      <td>47</td>\n",
              "      <td>32</td>\n",
              "      <td>71</td>\n",
              "      <td>2</td>\n",
              "      <td>31</td>\n",
              "      <td>...</td>\n",
              "      <td>79</td>\n",
              "      <td>67</td>\n",
              "      <td>51</td>\n",
              "      <td>79</td>\n",
              "      <td>55</td>\n",
              "      <td>99</td>\n",
              "      <td>68</td>\n",
              "      <td>77</td>\n",
              "      <td>35</td>\n",
              "      <td>90</td>\n",
              "    </tr>\n",
              "    <tr>\n",
              "      <th>4</th>\n",
              "      <td>54</td>\n",
              "      <td>13</td>\n",
              "      <td>20</td>\n",
              "      <td>5</td>\n",
              "      <td>33</td>\n",
              "      <td>12</td>\n",
              "      <td>46</td>\n",
              "      <td>59</td>\n",
              "      <td>68</td>\n",
              "      <td>86</td>\n",
              "      <td>...</td>\n",
              "      <td>20</td>\n",
              "      <td>89</td>\n",
              "      <td>27</td>\n",
              "      <td>27</td>\n",
              "      <td>95</td>\n",
              "      <td>12</td>\n",
              "      <td>4</td>\n",
              "      <td>32</td>\n",
              "      <td>63</td>\n",
              "      <td>80</td>\n",
              "    </tr>\n",
              "    <tr>\n",
              "      <th>...</th>\n",
              "      <td>...</td>\n",
              "      <td>...</td>\n",
              "      <td>...</td>\n",
              "      <td>...</td>\n",
              "      <td>...</td>\n",
              "      <td>...</td>\n",
              "      <td>...</td>\n",
              "      <td>...</td>\n",
              "      <td>...</td>\n",
              "      <td>...</td>\n",
              "      <td>...</td>\n",
              "      <td>...</td>\n",
              "      <td>...</td>\n",
              "      <td>...</td>\n",
              "      <td>...</td>\n",
              "      <td>...</td>\n",
              "      <td>...</td>\n",
              "      <td>...</td>\n",
              "      <td>...</td>\n",
              "      <td>...</td>\n",
              "      <td>...</td>\n",
              "    </tr>\n",
              "    <tr>\n",
              "      <th>295</th>\n",
              "      <td>37</td>\n",
              "      <td>87</td>\n",
              "      <td>91</td>\n",
              "      <td>44</td>\n",
              "      <td>80</td>\n",
              "      <td>54</td>\n",
              "      <td>98</td>\n",
              "      <td>10</td>\n",
              "      <td>45</td>\n",
              "      <td>28</td>\n",
              "      <td>...</td>\n",
              "      <td>44</td>\n",
              "      <td>20</td>\n",
              "      <td>55</td>\n",
              "      <td>57</td>\n",
              "      <td>47</td>\n",
              "      <td>83</td>\n",
              "      <td>45</td>\n",
              "      <td>69</td>\n",
              "      <td>31</td>\n",
              "      <td>38</td>\n",
              "    </tr>\n",
              "    <tr>\n",
              "      <th>296</th>\n",
              "      <td>83</td>\n",
              "      <td>64</td>\n",
              "      <td>53</td>\n",
              "      <td>8</td>\n",
              "      <td>35</td>\n",
              "      <td>39</td>\n",
              "      <td>80</td>\n",
              "      <td>28</td>\n",
              "      <td>29</td>\n",
              "      <td>5</td>\n",
              "      <td>...</td>\n",
              "      <td>73</td>\n",
              "      <td>80</td>\n",
              "      <td>35</td>\n",
              "      <td>40</td>\n",
              "      <td>44</td>\n",
              "      <td>17</td>\n",
              "      <td>12</td>\n",
              "      <td>25</td>\n",
              "      <td>12</td>\n",
              "      <td>50</td>\n",
              "    </tr>\n",
              "    <tr>\n",
              "      <th>297</th>\n",
              "      <td>17</td>\n",
              "      <td>74</td>\n",
              "      <td>36</td>\n",
              "      <td>78</td>\n",
              "      <td>22</td>\n",
              "      <td>73</td>\n",
              "      <td>86</td>\n",
              "      <td>63</td>\n",
              "      <td>80</td>\n",
              "      <td>77</td>\n",
              "      <td>...</td>\n",
              "      <td>23</td>\n",
              "      <td>54</td>\n",
              "      <td>3</td>\n",
              "      <td>35</td>\n",
              "      <td>53</td>\n",
              "      <td>27</td>\n",
              "      <td>55</td>\n",
              "      <td>74</td>\n",
              "      <td>37</td>\n",
              "      <td>8</td>\n",
              "    </tr>\n",
              "    <tr>\n",
              "      <th>298</th>\n",
              "      <td>97</td>\n",
              "      <td>72</td>\n",
              "      <td>77</td>\n",
              "      <td>87</td>\n",
              "      <td>30</td>\n",
              "      <td>93</td>\n",
              "      <td>78</td>\n",
              "      <td>3</td>\n",
              "      <td>74</td>\n",
              "      <td>38</td>\n",
              "      <td>...</td>\n",
              "      <td>92</td>\n",
              "      <td>34</td>\n",
              "      <td>12</td>\n",
              "      <td>21</td>\n",
              "      <td>20</td>\n",
              "      <td>93</td>\n",
              "      <td>43</td>\n",
              "      <td>41</td>\n",
              "      <td>96</td>\n",
              "      <td>35</td>\n",
              "    </tr>\n",
              "    <tr>\n",
              "      <th>299</th>\n",
              "      <td>81</td>\n",
              "      <td>33</td>\n",
              "      <td>45</td>\n",
              "      <td>31</td>\n",
              "      <td>17</td>\n",
              "      <td>59</td>\n",
              "      <td>4</td>\n",
              "      <td>5</td>\n",
              "      <td>53</td>\n",
              "      <td>50</td>\n",
              "      <td>...</td>\n",
              "      <td>7</td>\n",
              "      <td>48</td>\n",
              "      <td>18</td>\n",
              "      <td>2</td>\n",
              "      <td>93</td>\n",
              "      <td>59</td>\n",
              "      <td>59</td>\n",
              "      <td>80</td>\n",
              "      <td>36</td>\n",
              "      <td>64</td>\n",
              "    </tr>\n",
              "  </tbody>\n",
              "</table>\n",
              "<p>300 rows × 400 columns</p>\n",
              "</div>\n",
              "    <div class=\"colab-df-buttons\">\n",
              "\n",
              "  <div class=\"colab-df-container\">\n",
              "    <button class=\"colab-df-convert\" onclick=\"convertToInteractive('df-e61904f8-029a-4463-8013-ad594aad15ae')\"\n",
              "            title=\"Convert this dataframe to an interactive table.\"\n",
              "            style=\"display:none;\">\n",
              "\n",
              "  <svg xmlns=\"http://www.w3.org/2000/svg\" height=\"24px\" viewBox=\"0 -960 960 960\">\n",
              "    <path d=\"M120-120v-720h720v720H120Zm60-500h600v-160H180v160Zm220 220h160v-160H400v160Zm0 220h160v-160H400v160ZM180-400h160v-160H180v160Zm440 0h160v-160H620v160ZM180-180h160v-160H180v160Zm440 0h160v-160H620v160Z\"/>\n",
              "  </svg>\n",
              "    </button>\n",
              "\n",
              "  <style>\n",
              "    .colab-df-container {\n",
              "      display:flex;\n",
              "      gap: 12px;\n",
              "    }\n",
              "\n",
              "    .colab-df-convert {\n",
              "      background-color: #E8F0FE;\n",
              "      border: none;\n",
              "      border-radius: 50%;\n",
              "      cursor: pointer;\n",
              "      display: none;\n",
              "      fill: #1967D2;\n",
              "      height: 32px;\n",
              "      padding: 0 0 0 0;\n",
              "      width: 32px;\n",
              "    }\n",
              "\n",
              "    .colab-df-convert:hover {\n",
              "      background-color: #E2EBFA;\n",
              "      box-shadow: 0px 1px 2px rgba(60, 64, 67, 0.3), 0px 1px 3px 1px rgba(60, 64, 67, 0.15);\n",
              "      fill: #174EA6;\n",
              "    }\n",
              "\n",
              "    .colab-df-buttons div {\n",
              "      margin-bottom: 4px;\n",
              "    }\n",
              "\n",
              "    [theme=dark] .colab-df-convert {\n",
              "      background-color: #3B4455;\n",
              "      fill: #D2E3FC;\n",
              "    }\n",
              "\n",
              "    [theme=dark] .colab-df-convert:hover {\n",
              "      background-color: #434B5C;\n",
              "      box-shadow: 0px 1px 3px 1px rgba(0, 0, 0, 0.15);\n",
              "      filter: drop-shadow(0px 1px 2px rgba(0, 0, 0, 0.3));\n",
              "      fill: #FFFFFF;\n",
              "    }\n",
              "  </style>\n",
              "\n",
              "    <script>\n",
              "      const buttonEl =\n",
              "        document.querySelector('#df-e61904f8-029a-4463-8013-ad594aad15ae button.colab-df-convert');\n",
              "      buttonEl.style.display =\n",
              "        google.colab.kernel.accessAllowed ? 'block' : 'none';\n",
              "\n",
              "      async function convertToInteractive(key) {\n",
              "        const element = document.querySelector('#df-e61904f8-029a-4463-8013-ad594aad15ae');\n",
              "        const dataTable =\n",
              "          await google.colab.kernel.invokeFunction('convertToInteractive',\n",
              "                                                    [key], {});\n",
              "        if (!dataTable) return;\n",
              "\n",
              "        const docLinkHtml = 'Like what you see? Visit the ' +\n",
              "          '<a target=\"_blank\" href=https://colab.research.google.com/notebooks/data_table.ipynb>data table notebook</a>'\n",
              "          + ' to learn more about interactive tables.';\n",
              "        element.innerHTML = '';\n",
              "        dataTable['output_type'] = 'display_data';\n",
              "        await google.colab.output.renderOutput(dataTable, element);\n",
              "        const docLink = document.createElement('div');\n",
              "        docLink.innerHTML = docLinkHtml;\n",
              "        element.appendChild(docLink);\n",
              "      }\n",
              "    </script>\n",
              "  </div>\n",
              "\n",
              "\n",
              "    <div id=\"df-b460a144-ecd4-445a-b3c3-3575926c112c\">\n",
              "      <button class=\"colab-df-quickchart\" onclick=\"quickchart('df-b460a144-ecd4-445a-b3c3-3575926c112c')\"\n",
              "                title=\"Suggest charts\"\n",
              "                style=\"display:none;\">\n",
              "\n",
              "<svg xmlns=\"http://www.w3.org/2000/svg\" height=\"24px\"viewBox=\"0 0 24 24\"\n",
              "     width=\"24px\">\n",
              "    <g>\n",
              "        <path d=\"M19 3H5c-1.1 0-2 .9-2 2v14c0 1.1.9 2 2 2h14c1.1 0 2-.9 2-2V5c0-1.1-.9-2-2-2zM9 17H7v-7h2v7zm4 0h-2V7h2v10zm4 0h-2v-4h2v4z\"/>\n",
              "    </g>\n",
              "</svg>\n",
              "      </button>\n",
              "\n",
              "<style>\n",
              "  .colab-df-quickchart {\n",
              "      --bg-color: #E8F0FE;\n",
              "      --fill-color: #1967D2;\n",
              "      --hover-bg-color: #E2EBFA;\n",
              "      --hover-fill-color: #174EA6;\n",
              "      --disabled-fill-color: #AAA;\n",
              "      --disabled-bg-color: #DDD;\n",
              "  }\n",
              "\n",
              "  [theme=dark] .colab-df-quickchart {\n",
              "      --bg-color: #3B4455;\n",
              "      --fill-color: #D2E3FC;\n",
              "      --hover-bg-color: #434B5C;\n",
              "      --hover-fill-color: #FFFFFF;\n",
              "      --disabled-bg-color: #3B4455;\n",
              "      --disabled-fill-color: #666;\n",
              "  }\n",
              "\n",
              "  .colab-df-quickchart {\n",
              "    background-color: var(--bg-color);\n",
              "    border: none;\n",
              "    border-radius: 50%;\n",
              "    cursor: pointer;\n",
              "    display: none;\n",
              "    fill: var(--fill-color);\n",
              "    height: 32px;\n",
              "    padding: 0;\n",
              "    width: 32px;\n",
              "  }\n",
              "\n",
              "  .colab-df-quickchart:hover {\n",
              "    background-color: var(--hover-bg-color);\n",
              "    box-shadow: 0 1px 2px rgba(60, 64, 67, 0.3), 0 1px 3px 1px rgba(60, 64, 67, 0.15);\n",
              "    fill: var(--button-hover-fill-color);\n",
              "  }\n",
              "\n",
              "  .colab-df-quickchart-complete:disabled,\n",
              "  .colab-df-quickchart-complete:disabled:hover {\n",
              "    background-color: var(--disabled-bg-color);\n",
              "    fill: var(--disabled-fill-color);\n",
              "    box-shadow: none;\n",
              "  }\n",
              "\n",
              "  .colab-df-spinner {\n",
              "    border: 2px solid var(--fill-color);\n",
              "    border-color: transparent;\n",
              "    border-bottom-color: var(--fill-color);\n",
              "    animation:\n",
              "      spin 1s steps(1) infinite;\n",
              "  }\n",
              "\n",
              "  @keyframes spin {\n",
              "    0% {\n",
              "      border-color: transparent;\n",
              "      border-bottom-color: var(--fill-color);\n",
              "      border-left-color: var(--fill-color);\n",
              "    }\n",
              "    20% {\n",
              "      border-color: transparent;\n",
              "      border-left-color: var(--fill-color);\n",
              "      border-top-color: var(--fill-color);\n",
              "    }\n",
              "    30% {\n",
              "      border-color: transparent;\n",
              "      border-left-color: var(--fill-color);\n",
              "      border-top-color: var(--fill-color);\n",
              "      border-right-color: var(--fill-color);\n",
              "    }\n",
              "    40% {\n",
              "      border-color: transparent;\n",
              "      border-right-color: var(--fill-color);\n",
              "      border-top-color: var(--fill-color);\n",
              "    }\n",
              "    60% {\n",
              "      border-color: transparent;\n",
              "      border-right-color: var(--fill-color);\n",
              "    }\n",
              "    80% {\n",
              "      border-color: transparent;\n",
              "      border-right-color: var(--fill-color);\n",
              "      border-bottom-color: var(--fill-color);\n",
              "    }\n",
              "    90% {\n",
              "      border-color: transparent;\n",
              "      border-bottom-color: var(--fill-color);\n",
              "    }\n",
              "  }\n",
              "</style>\n",
              "\n",
              "      <script>\n",
              "        async function quickchart(key) {\n",
              "          const quickchartButtonEl =\n",
              "            document.querySelector('#' + key + ' button');\n",
              "          quickchartButtonEl.disabled = true;  // To prevent multiple clicks.\n",
              "          quickchartButtonEl.classList.add('colab-df-spinner');\n",
              "          try {\n",
              "            const charts = await google.colab.kernel.invokeFunction(\n",
              "                'suggestCharts', [key], {});\n",
              "          } catch (error) {\n",
              "            console.error('Error during call to suggestCharts:', error);\n",
              "          }\n",
              "          quickchartButtonEl.classList.remove('colab-df-spinner');\n",
              "          quickchartButtonEl.classList.add('colab-df-quickchart-complete');\n",
              "        }\n",
              "        (() => {\n",
              "          let quickchartButtonEl =\n",
              "            document.querySelector('#df-b460a144-ecd4-445a-b3c3-3575926c112c button');\n",
              "          quickchartButtonEl.style.display =\n",
              "            google.colab.kernel.accessAllowed ? 'block' : 'none';\n",
              "        })();\n",
              "      </script>\n",
              "    </div>\n",
              "\n",
              "    </div>\n",
              "  </div>\n"
            ],
            "application/vnd.google.colaboratory.intrinsic+json": {
              "type": "dataframe"
            }
          },
          "metadata": {},
          "execution_count": 58
        }
      ]
    },
    {
      "cell_type": "code",
      "source": [
        "pd.DataFrame(np.random.randint(1,100,(300,400))).to_csv('test.csv') #creating random data and store to csv file"
      ],
      "metadata": {
        "id": "lewXQPpLThJJ"
      },
      "execution_count": 59,
      "outputs": []
    },
    {
      "cell_type": "code",
      "source": [
        "arr = np.random.rand(3,4)\n",
        "arr"
      ],
      "metadata": {
        "colab": {
          "base_uri": "https://localhost:8080/"
        },
        "id": "hWHpuI73UVSy",
        "outputId": "8f64132f-8e46-4b69-9e8f-d819b22f0a1c"
      },
      "execution_count": 61,
      "outputs": [
        {
          "output_type": "execute_result",
          "data": {
            "text/plain": [
              "array([[0.36722726, 0.82784099, 0.22609425, 0.50667421],\n",
              "       [0.14251152, 0.87514567, 0.74428304, 0.18671109],\n",
              "       [0.76487775, 0.9253063 , 0.44548134, 0.10073228]])"
            ]
          },
          "metadata": {},
          "execution_count": 61
        }
      ]
    },
    {
      "cell_type": "code",
      "source": [
        "arr.reshape(6,2) # give the own customizable shape"
      ],
      "metadata": {
        "colab": {
          "base_uri": "https://localhost:8080/"
        },
        "id": "guLW04VdUkIZ",
        "outputId": "1dc2cb55-2ec6-4c8d-83a1-a499fb168b50"
      },
      "execution_count": 62,
      "outputs": [
        {
          "output_type": "execute_result",
          "data": {
            "text/plain": [
              "array([[0.36722726, 0.82784099],\n",
              "       [0.22609425, 0.50667421],\n",
              "       [0.14251152, 0.87514567],\n",
              "       [0.74428304, 0.18671109],\n",
              "       [0.76487775, 0.9253063 ],\n",
              "       [0.44548134, 0.10073228]])"
            ]
          },
          "metadata": {},
          "execution_count": 62
        }
      ]
    },
    {
      "cell_type": "code",
      "source": [
        "arr.reshape(6,-437923749237)    #By default it will take 6 cross 2 because there are 12 elements"
      ],
      "metadata": {
        "colab": {
          "base_uri": "https://localhost:8080/"
        },
        "id": "WZxDTLw9U845",
        "outputId": "3ba3d7cd-5703-4cfa-daf6-255508b58846"
      },
      "execution_count": 63,
      "outputs": [
        {
          "output_type": "execute_result",
          "data": {
            "text/plain": [
              "array([[0.36722726, 0.82784099],\n",
              "       [0.22609425, 0.50667421],\n",
              "       [0.14251152, 0.87514567],\n",
              "       [0.74428304, 0.18671109],\n",
              "       [0.76487775, 0.9253063 ],\n",
              "       [0.44548134, 0.10073228]])"
            ]
          },
          "metadata": {},
          "execution_count": 63
        }
      ]
    },
    {
      "cell_type": "code",
      "source": [
        "arr1 = np.random.randint(1,3,(3,3))\n",
        "arr2 = np.random.randint(1,3,(3,3))\n",
        "print(arr1)\n",
        "print(arr2)"
      ],
      "metadata": {
        "colab": {
          "base_uri": "https://localhost:8080/"
        },
        "id": "sXPC_Bj-WFuj",
        "outputId": "d9e0de8b-f7d4-444d-c27d-dd69e1615bc0"
      },
      "execution_count": 65,
      "outputs": [
        {
          "output_type": "stream",
          "name": "stdout",
          "text": [
            "[[2 2 1]\n",
            " [2 2 2]\n",
            " [1 2 1]]\n",
            "[[2 1 1]\n",
            " [1 1 1]\n",
            " [1 2 2]]\n"
          ]
        }
      ]
    },
    {
      "cell_type": "code",
      "source": [
        "print(arr1 + arr2)\n",
        "print(arr1 - arr2)\n",
        "print(arr1 * arr2) # this will not give the matrix multiplication\n",
        "print(arr1 / arr2)\n",
        "print(arr1@arr2) #matrix multiplication"
      ],
      "metadata": {
        "colab": {
          "base_uri": "https://localhost:8080/"
        },
        "id": "4a5h0AEDWu7b",
        "outputId": "71cadb35-7ba7-42af-fa08-d3eec0eacf1b"
      },
      "execution_count": 67,
      "outputs": [
        {
          "output_type": "stream",
          "name": "stdout",
          "text": [
            "[[4 3 2]\n",
            " [3 3 3]\n",
            " [2 4 3]]\n",
            "[[ 0  1  0]\n",
            " [ 1  1  1]\n",
            " [ 0  0 -1]]\n",
            "[[4 2 1]\n",
            " [2 2 2]\n",
            " [1 4 2]]\n",
            "[[1.  2.  1. ]\n",
            " [2.  2.  2. ]\n",
            " [1.  1.  0.5]]\n",
            "[[7 6 6]\n",
            " [8 8 8]\n",
            " [5 5 5]]\n"
          ]
        }
      ]
    }
  ]
}